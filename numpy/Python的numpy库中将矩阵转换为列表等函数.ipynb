{
 "cells": [
  {
   "cell_type": "markdown",
   "metadata": {},
   "source": [
    "# 1.将矩阵转换为列表的函数：numpy.matrix.tolist（）  \n",
    "## 返回list列表"
   ]
  },
  {
   "cell_type": "code",
   "execution_count": 17,
   "metadata": {},
   "outputs": [],
   "source": [
    "import numpy as np  "
   ]
  },
  {
   "cell_type": "code",
   "execution_count": 18,
   "metadata": {},
   "outputs": [
    {
     "name": "stdout",
     "output_type": "stream",
     "text": [
      "[[ 0  1  2  3]\n",
      " [ 4  5  6  7]\n",
      " [ 8  9 10 11]]\n",
      "[[0, 1, 2, 3], [4, 5, 6, 7], [8, 9, 10, 11]]\n"
     ]
    }
   ],
   "source": [
    "# x = np.matrix(np.arange(12).reshape((3,4)))\n",
    "# print(x)\n",
    "x = np.arange(12).reshape((3,4))\n",
    "print(x)\n",
    "print(x.tolist())"
   ]
  },
  {
   "cell_type": "markdown",
   "metadata": {},
   "source": [
    "# 2.将数组转换为列表的函数：numpy.ndarray.tolist（）\n",
    "## Notes：（数组能够被重新构造）\n",
    "## The array may be recreated, a=np.array(a.tolist())."
   ]
  },
  {
   "cell_type": "code",
   "execution_count": 19,
   "metadata": {},
   "outputs": [
    {
     "name": "stdout",
     "output_type": "stream",
     "text": [
      "[1, 2]\n",
      "[array([1, 2]), array([3, 4])]\n",
      "[[1, 2], [3, 4]]\n"
     ]
    }
   ],
   "source": [
    "a = np.array([1, 2])\n",
    "print(a.tolist())\n",
    "\n",
    "# 注意这块的细节\n",
    "a = np.array([[1, 2], [3, 4]])\n",
    "print(list(a))\n",
    "print(a.tolist())"
   ]
  },
  {
   "cell_type": "markdown",
   "metadata": {},
   "source": [
    "# 3.numpy.mean() 计算矩阵或数组的均值"
   ]
  },
  {
   "cell_type": "code",
   "execution_count": 20,
   "metadata": {},
   "outputs": [
    {
     "name": "stdout",
     "output_type": "stream",
     "text": [
      "2.5\n",
      "[ 2.  3.]\n",
      "[ 1.5  3.5]\n"
     ]
    }
   ],
   "source": [
    "a = np.array([[1, 2], [3, 4]])  #对所有元素求均值\n",
    "print(np.mean(a))\n",
    "print(np.mean(a, axis=0)) #对每一列求均值\n",
    "print(np.mean(a, axis=1))   #对每一行求均值"
   ]
  },
  {
   "cell_type": "markdown",
   "metadata": {},
   "source": [
    "# 4.numpy.std()计算矩阵或数组的标准差"
   ]
  },
  {
   "cell_type": "code",
   "execution_count": 22,
   "metadata": {},
   "outputs": [
    {
     "name": "stdout",
     "output_type": "stream",
     "text": [
      "1.11803398875\n",
      "[ 1.  1.]\n",
      "[ 0.5  0.5]\n"
     ]
    }
   ],
   "source": [
    "a = np.array([[1, 2], [3, 4]])  #对所有元素求标准差 \n",
    "print(np.std(a))\n",
    "print(np.std(a, axis=0))    #对每一列求标准差\n",
    "print(np.std(a, axis=1))    #对每一行求标准差"
   ]
  },
  {
   "cell_type": "markdown",
   "metadata": {},
   "source": [
    "# 5.numpy.newaxis为数组增加一个维度"
   ]
  },
  {
   "cell_type": "code",
   "execution_count": 24,
   "metadata": {},
   "outputs": [
    {
     "name": "stdout",
     "output_type": "stream",
     "text": [
      "[[1 2]\n",
      " [4 5]\n",
      " [7 8]]\n",
      "(3, 2)\n",
      "[3 6 9]\n",
      "(3,)\n",
      "[[3]\n",
      " [6]\n",
      " [9]]\n",
      "(3, 1)\n",
      "[[3]\n",
      " [6]\n",
      " [9]]\n",
      "(3, 1)\n"
     ]
    }
   ],
   "source": [
    "a = np.array([[1,2,3],[4,5,6],[7,8,9]]) # 先输入3行2列的数组a\n",
    "b = a[:,:2] \n",
    "print(b)\n",
    "print(b.shape)  # 当数组的行与列都大于1时，不需增加维度\n",
    "c = a[:,2] \n",
    "print(c)\n",
    "print(c.shape)  # 可以看到，当数组只有一列时，缺少列的维度\n",
    "d = a[:,2,np.newaxis]  # np.newaxis实现增加列的维度\n",
    "print(d)\n",
    "print(d.shape)  # d的维度成了3行1列（3,1）\n",
    "e = a[:,2,None]   # None与np.newaxis实现相同的功能\n",
    "print(e)\n",
    "print(e.shape)"
   ]
  },
  {
   "cell_type": "markdown",
   "metadata": {},
   "source": [
    "# 6.numpy.random.shuffle(index): 打乱数据集（数组）的顺序"
   ]
  },
  {
   "cell_type": "code",
   "execution_count": 26,
   "metadata": {},
   "outputs": [
    {
     "name": "stdout",
     "output_type": "stream",
     "text": [
      "[0, 1, 2, 3, 4, 5, 6, 7, 8, 9]\n",
      "[3, 9, 0, 8, 2, 4, 1, 6, 7, 5]\n"
     ]
    }
   ],
   "source": [
    "index = [i for i in range(10)]\n",
    "print(index)\n",
    "np.random.shuffle(index)\n",
    "print(index)"
   ]
  },
  {
   "cell_type": "markdown",
   "metadata": {},
   "source": [
    "# 7.计算二维数组某一行或某一列的最大值最小值"
   ]
  },
  {
   "cell_type": "code",
   "execution_count": 27,
   "metadata": {},
   "outputs": [
    {
     "name": "stdout",
     "output_type": "stream",
     "text": [
      "[[ 0  1  2]\n",
      " [ 3  4  5]\n",
      " [ 6  7  8]\n",
      " [ 9 10 11]\n",
      " [12 13 14]]\n",
      "0\n",
      "2\n"
     ]
    }
   ],
   "source": [
    "a = np.arange(15).reshape(5,3)  # 构造一个5行3列的二维数组\n",
    "print(a)\n",
    "b = a[:,0].min()  # 取第0列的最小值，其他列同理\n",
    "print(b)\n",
    "c = a[0,:].max() # 取第0行的最大值，其他行同理\n",
    "print(c)"
   ]
  },
  {
   "cell_type": "markdown",
   "metadata": {},
   "source": [
    "# 8.向数组中添加列：np.hstack()"
   ]
  },
  {
   "cell_type": "code",
   "execution_count": 42,
   "metadata": {},
   "outputs": [
    {
     "name": "stdout",
     "output_type": "stream",
     "text": [
      "[[-1.70710127 -0.77975625]\n",
      " [-1.15013864  1.15554201]\n",
      " [ 0.9406852  -0.39925409]\n",
      " [-0.33826784  0.9925374 ]]\n",
      "[[1 2 3 4]\n",
      " [2 1 3 5]]\n",
      "(2, 4)\n",
      "[[[1 2 3 4]]\n",
      "\n",
      " [[2 1 3 5]]]\n",
      "(2, 1, 4)\n"
     ]
    }
   ],
   "source": [
    "n = np.array(np.random.randn(4,2)) \n",
    "print(n)\n",
    "\n",
    "l = np.array([[1,2,3,4],[2,1,3,5]]) \n",
    "print(l) \n",
    "print(l.shape)\n",
    "\n",
    "# 可以看到，n是二维的，l是一维的，如果直接调用np.hstack()会出错：维度不同。\n",
    "# n = np.hstack((n,l))  # ValueError: all the input arrays must have same number of dimensions\n",
    "#解决方法是将l变为二维\n",
    "# n = np.hstack((n,l[:,np.newaxis]))   # 注意：在使用np.hstack()时必须用()把变量括起来，因为它只接受一个变量\n",
    "print(l[:,np.newaxis])\n",
    "print(l[:,np.newaxis].shape)\n",
    "# print(n)"
   ]
  },
  {
   "cell_type": "markdown",
   "metadata": {},
   "source": [
    "# 如何按列往一个空列表添加值"
   ]
  },
  {
   "cell_type": "code",
   "execution_count": 35,
   "metadata": {},
   "outputs": [
    {
     "name": "stdout",
     "output_type": "stream",
     "text": [
      "[[  1   2   3   4   5   6]\n",
      " [ 11  22  33  44  55  66]\n",
      " [111 222 333 444 555 666]]\n",
      "[[], [], []]\n",
      "[  1  11 111]\n",
      "[[  1]\n",
      " [ 11]\n",
      " [111]]\n",
      "[  3  33 333]\n",
      "[[  3]\n",
      " [ 33]\n",
      " [333]]\n",
      "[  5  55 555]\n",
      "[[  5]\n",
      " [ 55]\n",
      " [555]]\n",
      "[[   1.    3.    5.]\n",
      " [  11.   33.   55.]\n",
      " [ 111.  333.  555.]]\n"
     ]
    }
   ],
   "source": [
    "n = np.array([[1,2,3,4,5,6],[11,22,33,44,55,66],[111,222,333,444,555,666]])  # 产生一个三行六列容易区分的数组\n",
    "print(n)\n",
    "sample = [[]for i in range(3)]  # 产生三行一列的空列表\n",
    "print(sample)\n",
    "\n",
    "for i in range(0,6,2):   # 每间隔一列便添加到sample中\n",
    "    sample = np.hstack((sample,n[:,i,np.newaxis]))  \n",
    "    print(n[:,i])\n",
    "    print(n[:,i,np.newaxis])\n",
    "print(sample)\n"
   ]
  },
  {
   "cell_type": "code",
   "execution_count": null,
   "metadata": {},
   "outputs": [],
   "source": []
  }
 ],
 "metadata": {
  "kernelspec": {
   "display_name": "Python 3",
   "language": "python",
   "name": "python3"
  },
  "language_info": {
   "codemirror_mode": {
    "name": "ipython",
    "version": 3
   },
   "file_extension": ".py",
   "mimetype": "text/x-python",
   "name": "python",
   "nbconvert_exporter": "python",
   "pygments_lexer": "ipython3",
   "version": "3.6.3"
  }
 },
 "nbformat": 4,
 "nbformat_minor": 2
}
