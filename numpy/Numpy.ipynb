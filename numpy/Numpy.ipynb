{
 "cells": [
  {
   "cell_type": "markdown",
   "metadata": {},
   "source": [
    "# Numpy"
   ]
  },
  {
   "cell_type": "markdown",
   "metadata": {},
   "source": [
    "## 一、Numpy：数组计算    \n",
    "\n",
    "1、NumPy是高性能科学计算和数据分析的基础包。它是pandas等其他各种工具的基础。  \n",
    "2、NumPy的主要功能：  \n",
    "* ndarray，一个多维数组结构，高效且节省空间  \n",
    "* 无需循环对整组数据进行快速运算的数学函数   \n",
    "* 读写磁盘数据的工具以及用于操作内存映射文件的工具  \n",
    "* 线性代数、随机数生成和傅里叶变换功能  \n",
    "* 用于集成C、C++等代码的工具  \n",
    "\n",
    "3、安装方法：pip install numpy  \n",
    "4、引用方式：import numpy as np "
   ]
  },
  {
   "cell_type": "markdown",
   "metadata": {},
   "source": [
    "## 二、Numpy：ndarray-多维数组对象\n",
    "\n",
    "1、创建ndarray：np.array()\n",
    "\n",
    "2、ndarray是多维数组结构，与列表的区别是：\n",
    "\n",
    "* 数组对象内的元素类型必须相同\n",
    "* 数组大小不可修改\n",
    "\n",
    "3、常用属性：\n",
    "\n",
    "* T 数组的转置（对高维数组而言）\n",
    "* dtype 数组元素的数据类型\n",
    "* size 数组元素的个数\n",
    "* ndim 数组的维数\n",
    "* shape 数组的维度大小（以元组形式）\n",
    "\n",
    "4、常用方法\n",
    "![Numpy 常用方法](.\\picture\\常用方法.png)"
   ]
  },
  {
   "cell_type": "markdown",
   "metadata": {},
   "source": [
    "## 三、Numpy：ndarray-数据类型\n",
    "![Numpy 数据类型](.\\picture\\数据类型.png)"
   ]
  },
  {
   "cell_type": "markdown",
   "metadata": {},
   "source": [
    "## 四、Numpy：ndarray-创建\n",
    "创建ndarray：  \n",
    "* array()         将列表转换为数组，可选择显式指定dtype  \n",
    "* arange()        range的numpy版，支持浮点数  \n",
    "* linspace()      类似arange()，第三个参数为数组长度  \n",
    "* zeros()         根据指定形状和dtype创建全0数组  \n",
    "* ones()          根据指定形状和dtype创建全1数组  \n",
    "* empty()         根据指定形状和dtype创建空数组（随机值）\n",
    "* eye()           根据指定边长和dtype创建单位矩阵\n"
   ]
  },
  {
   "cell_type": "markdown",
   "metadata": {},
   "source": [
    "## 五、Numpy：索引和切片\n",
    "![Numpy 索引和切片](.\\picture\\索引和切片.png)"
   ]
  },
  {
   "cell_type": "markdown",
   "metadata": {
    "collapsed": true
   },
   "source": [
    "## 六、Numpy：布尔型索引\n",
    "![Numpy 布尔型索引](.\\picture\\布尔型索引.png)"
   ]
  },
  {
   "cell_type": "markdown",
   "metadata": {},
   "source": [
    "## 七、Numpy：花式索引\n",
    "问题1：对于一个数组，选出其第1，3，4，6，7个元素，组成新的二维数组。  \n",
    "答案：a[[1,3,4,6,7]]  \n",
    "\n",
    "问题2：对一个二维数组，选出其第一列和第三列，组成新的二维数组。  \n",
    "答案：a[:,[1,3]]  "
   ]
  },
  {
   "cell_type": "markdown",
   "metadata": {},
   "source": [
    "## 八、Numpy：通用函数\n",
    "通用函数：能同时对数组中所有元素进行运算的函数    \n",
    "\n",
    "常见通用函数：    \n",
    "\n",
    "一元函数：abs, sqrt, exp, log, ceil, floor, rint, trunc, modf, isnan, isinf, cos, sin, tan   \n",
    "![Numpy 一元函数](.\\picture\\一元函数.png) \n",
    "二元函数：add, substract, multiply, divide, power, mod,  maximum, mininum  \n",
    "![Numpy 二元函数](.\\picture\\二元函数.png)  \n"
   ]
  },
  {
   "cell_type": "markdown",
   "metadata": {},
   "source": [
    "## 九、补充知识：浮点数特殊值\n",
    "1、浮点数：float  \n",
    "2、浮点数有两个特殊值：  \n",
    "* nan(Not a Number)：不等于任何浮点数（nan != nan）  \n",
    "* inf(infinity)：比任何浮点数都大  \n",
    "\n",
    "3、NumPy中创建特殊值：np.nan np.inf\n",
    "\n",
    "4、在数据分析中，nan常被用作表示数据缺失值\n",
    "\n",
    "既然nan连自己都不相等，那么怎么判断是不是NAN呢？  \n",
    "用a==a 只要返回False就能判断  \n",
    "![nan](.\\picture\\nan.png)"
   ]
  },
  {
   "cell_type": "markdown",
   "metadata": {
    "collapsed": true
   },
   "source": [
    "## 十、Numpy：数学和统计方法\n",
    "常用函数：\n",
    "* sum 求和\n",
    "* cumsum 求前缀和\n",
    "* mean 求平均数\n",
    "* std 求标准差\n",
    "* var 求方差\n",
    "* min 求最小值\n",
    "* max 求最大值\n",
    "* argmin 求最小值索引\n",
    "* argmax 求最大值索引"
   ]
  },
  {
   "cell_type": "markdown",
   "metadata": {
    "collapsed": true
   },
   "source": [
    "## 十一、Numpy：随机数生成\n",
    "随机数生成函数在np.random子包内  \n",
    "常用函数  \n",
    "* rand 给定形状产生随机数组（0到1之间的数）\n",
    "* randint 给定形状产生随机整数\n",
    "* choice 给定形状产生随机选择\n",
    "* shuffle 与random.shuffle相同\n",
    "* uniform 给定形状产生随机数组"
   ]
  },
  {
   "cell_type": "code",
   "execution_count": null,
   "metadata": {},
   "outputs": [],
   "source": []
  }
 ],
 "metadata": {
  "kernelspec": {
   "display_name": "Python [conda env:tensorflow]",
   "language": "python",
   "name": "conda-env-tensorflow-py"
  },
  "language_info": {
   "codemirror_mode": {
    "name": "ipython",
    "version": 3
   },
   "file_extension": ".py",
   "mimetype": "text/x-python",
   "name": "python",
   "nbconvert_exporter": "python",
   "pygments_lexer": "ipython3",
   "version": "3.5.6"
  }
 },
 "nbformat": 4,
 "nbformat_minor": 2
}
