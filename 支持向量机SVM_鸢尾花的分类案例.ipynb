{
 "cells": [
  {
   "cell_type": "code",
   "execution_count": 1,
   "metadata": {
    "collapsed": true
   },
   "outputs": [],
   "source": [
    "from sklearn import svm\n",
    "import numpy as np\n",
    "from sklearn.model_selection import train_test_split\n",
    "import matplotlib as mpl\n",
    "import matplotlib.pyplot as plt\n",
    "from matplotlib import colors\n",
    "\n"
   ]
  },
  {
   "cell_type": "markdown",
   "metadata": {},
   "source": [
    "# svm.SVC API说明： \n",
    "功能：使用SVM分类器进行模型构建*  \n",
    "参数说明：\n",
    "C: 误差项的惩罚系数，默认为1.0；一般为大于0的一个数字，C越大表示在训练过程中对于总误差的关注度越高，也就是说当C  越大的时候，对于训练集的表现会越好，但是有可能引发过度拟合的问题(overfiting)  \n",
    "kernel：指定SVM内部函数的类型，可选值：linear、poly、rbf、sigmoid、precomputed(基本不用，有前提要求，要求特征属性数目和样本数目一样)；默认是rbf；   \n",
    "degree：当使用多项式函数作为svm内部的函数的时候，给定多项式的项数，默认为3  \n",
    "gamma：当SVM内部使用poly、rbf、sigmoid的时候，核函数的系数值，当默认值为auto的时候，实际系数为1/n_features   \n",
    "coef0: 当核函数为poly或者sigmoid的时候，给定的独立系数，默认为0   \n",
    "probability：是否启用概率估计，默认不启动，不太建议启动   \n",
    "shrinking：是否开启收缩启发式计算，默认为True   \n",
    "tol: 模型构建收敛参数，当模型的的误差变化率小于该值的时候，结束模型构建过程，默认值:1e-3  \n",
    "cache_size：在模型构建过程中，缓存数据的最大内存大小，默认为空，单位MB   \n",
    "class_weight：给定各个类别的权重，默认为空  \n",
    "max_iter：最大迭代次数，默认-1表示不限制   \n",
    "decision_function_shape: 决策函数，可选值：ovo和ovr，默认为None；推荐使用ovr；（1.7以上版本才有）\n",
    "\n"
   ]
  },
  {
   "cell_type": "markdown",
   "metadata": {},
   "source": [
    "# 1.使用numpy中的loadtxt读取数据文件\n",
    "*当使用numpy中的loadtxt函数导入该数据集时，假设数据类型dtype为浮点型，但是很明显第五列的数据类型并不是浮点型。*\n",
    "\n",
    "*因此我们要额外做一个工作，即通过loadtxt()函数中的converters参数将第五列通过转换函数映射成浮点类型的数据。*"
   ]
  },
  {
   "cell_type": "code",
   "execution_count": 2,
   "metadata": {
    "collapsed": true
   },
   "outputs": [],
   "source": [
    "# 转换函数\n",
    "# 定义一个函数，将不同类别标签与数字相对应\n",
    "def iris_type(s):\n",
    "    it = {b'Iris-setosa':0, b'Iris-versicolor':1, b'Iris-virginica':2}\n",
    "    return it[s]\n",
    "# 为啥前面要加个b?\n",
    "# 报错本身的提示的意思是：字典中没有'Iris-setosa'这个键，却试图访问它。\n",
    "# 所以，鉴于这个是从文件读取的，因此，最大的可能是字符编码问题\n",
    "\n",
    "# 数据文件路径\n",
    "path = 'iris.txt'\n",
    "data = np.loadtxt(path, dtype=float, delimiter=',', converters={4:iris_type})\n",
    "# 以上4个参数分别表示：\n",
    "# filepath ：文件路径。eg：C:/Dataset/iris.txt。\n",
    "# dtype=float ：数据类型。eg：float、str等。\n",
    "# delimiter=',' ：数据以什么分割符号分割。eg：‘，’。\n",
    "# converters={4:iris_type} ：对某一列数据（第四列）进行某种类型的转换，将数据列与转换函数进行映射的字典。eg：{1:fun}，含义是将第2列对应转换函数进行转换。\n",
    "#                          converters={4: iris_type}中“4”指的是第5列。\n"
   ]
  },
  {
   "cell_type": "markdown",
   "metadata": {},
   "source": [
    "# 2.将Iris分为训练集和测试集\n",
    "*1. split(数据，分割位置，轴=1（水平分割） or 0（垂直分割）)。*\n",
    "\n",
    "*2. x = x[:, :2]是为方便后期画图更直观，故只取了前两列特征值向量训练。*\n",
    "  \n",
    "*3. sklearn.model_selection.train_test_split随机划分训练集与测试集。train_test_split(train_data,train_target,test_size=数字, random_state=0)*\n",
    "\n",
    "*参数解释：*\n",
    "\n",
    "*train_data：所要划分的样本特征集*\n",
    "\n",
    "*train_target：所要划分的样本结果*\n",
    "\n",
    "*test_size：样本占比，如果是整数的话就是样本的数量*\n",
    "\n",
    "*random_state：是随机数的种子。*\n",
    "\n",
    "*随机数种子：其实就是该组随机数的编号，在需要重复试验的时候，保证得到一组一样的随机数。比如你每次都填1，其他参数一样的情况下你得到的随机数组是一样的。但填0或不填，每次都会不一样。随机数的产生取决于种子，随机数和种子之间的关系遵从以下两个规则：种子不同，产生不同的随机数；种子相同，即使实例不同也产生相同的随机数。*\n"
   ]
  },
  {
   "cell_type": "code",
   "execution_count": 3,
   "metadata": {
    "scrolled": false
   },
   "outputs": [
    {
     "name": "stderr",
     "output_type": "stream",
     "text": [
      "D:\\anaconda\\lib\\site-packages\\sklearn\\model_selection\\_split.py:2026: FutureWarning: From version 0.21, test_size will always complement train_size unless both are specified.\n",
      "  FutureWarning)\n"
     ]
    }
   ],
   "source": [
    "x, y = np.split(data, (4,), axis=1)  # np.split 按照列（axis=1）进行分割，从第四列开始往后的作为y数据，之前的作为X数据。\n",
    "x = x[:, :2]  # 取出前两列\n",
    "x_train, x_test, y_train, y_test = train_test_split(x, y, random_state=1, train_size=0.6)\n"
   ]
  },
  {
   "cell_type": "markdown",
   "metadata": {},
   "source": [
    "# 3.搭建模型，训练SVM分类器\n",
    "*kernel='linear'时，为线性核，C越大分类效果越好，但有可能会过拟合（defaul C=1）。*\n",
    "\n",
    "*kernel='rbf'时（default），为高斯核，gamma值越小，分类界面越连续；gamma值越大，分类界面越“散”，分类效果越好，但有可能会过拟合。*\n",
    "\n",
    "*decision_function_shape='ovr'时，为one v rest，即一个类别与其他类别进行划分*\n",
    "\n",
    "*decision_function_shape='ovo'时，为one v one，即将类别两两之间进行划分，用二分类的方法模拟多分类的结果。*\n"
   ]
  },
  {
   "cell_type": "code",
   "execution_count": 4,
   "metadata": {},
   "outputs": [
    {
     "name": "stdout",
     "output_type": "stream",
     "text": [
      "[ 0.  2.  2.  0.  0.  2.  0.  2.  2.  1.  1.  2.  2.  0.  1.  1.  2.  1.\n",
      "  2.  1.  0.  0.  0.  2.  0.  1.  2.  2.  0.  0.  1.  0.  2.  1.  2.  2.\n",
      "  1.  2.  2.  1.  0.  1.  0.  1.  1.  0.  1.  0.  0.  2.  2.  2.  0.  0.\n",
      "  1.  0.  2.  0.  2.  2.  0.  2.  0.  1.  0.  1.  1.  0.  0.  1.  0.  1.\n",
      "  1.  0.  1.  1.  1.  1.  2.  0.  0.  2.  1.  2.  1.  2.  2.  1.  2.  0.]\n"
     ]
    }
   ],
   "source": [
    "# clf = svm.SVC(C=0.1, kernel='linear', decision_function_shape='ovr')\n",
    "clf = svm.SVC(C=0.8, kernel='rbf', gamma=20, decision_function_shape='ovr')\n",
    "# 开始训练\n",
    "clf.fit(x_train, y_train.ravel())  # 想一想，这里为什么要用ravel()\n",
    "print(y_train.ravel())\n",
    "# 调用ravel()函数将矩阵转变成一维数组（ravel()函数与flatten()的区别）\n",
    "# 两者所要实现的功能是一致的（将多维数组降为一维），\n",
    "# 两者的区别在于返回拷贝（copy）还是返回视图（view），\n",
    "# numpy.flatten() 返回一份拷贝，对拷贝所做的修改不会影响（reflects）原始矩阵，\n",
    "# 而numpy.ravel()返回的是视图（view），会影响（reflects）原始矩阵。\n"
   ]
  },
  {
   "cell_type": "code",
   "execution_count": 5,
   "metadata": {
    "collapsed": true
   },
   "outputs": [],
   "source": [
    "def show_accuracy(y_hat, y_train, str):\n",
    "    pass"
   ]
  },
  {
   "cell_type": "markdown",
   "metadata": {},
   "source": [
    "# 4.计算SVC分类器的准确率"
   ]
  },
  {
   "cell_type": "code",
   "execution_count": 6,
   "metadata": {},
   "outputs": [
    {
     "name": "stdout",
     "output_type": "stream",
     "text": [
      "SVM-输出训练集的准确率为： 0.866666666667\n",
      "SVM-输出测试集的准确率为： 0.65\n",
      "decision_function:\n",
      " [[ 2.45540648  0.80337522 -0.2587817 ]\n",
      " [-0.4368348   2.31950945  1.11732536]\n",
      " [-0.43793789  1.00917055  2.42876733]\n",
      " [ 2.45555373  0.80242493 -0.25797866]\n",
      " [ 2.46185007  0.80020899 -0.26205906]\n",
      " [-0.4275673   0.97215049  2.4554168 ]\n",
      " [ 2.4554096   0.80344613 -0.25885573]\n",
      " [-0.42578192  2.23549613  1.19028579]\n",
      " [-0.33298947  0.85928729  2.47370219]\n",
      " [-0.48605671  1.11023326  2.37582345]\n",
      " [-0.46698316  2.45555939  1.01142377]\n",
      " [-0.34393526  0.88836411  2.45557115]\n",
      " [-0.45654511  2.24846454  1.20808056]\n",
      " [ 2.45540023  0.80337522 -0.25877545]\n",
      " [-0.26186033  2.455375    0.80648533]\n",
      " [-0.43948259  1.07549979  2.3639828 ]\n",
      " [-0.4275673   0.97215049  2.4554168 ]\n",
      " [-0.31788553  2.45549167  0.86239386]\n",
      " [-0.27857189  0.80842625  2.47014564]\n",
      " [-0.34853299  2.45530975  0.89322324]\n",
      " [ 2.44451224  0.80934383 -0.25385607]\n",
      " [ 2.48392766  0.78928739 -0.27321505]\n",
      " [ 2.36830493  0.84753105 -0.21583598]\n",
      " [-0.34393526  0.88836411  2.45557115]\n",
      " [ 2.5         0.78100981 -0.28100981]\n",
      " [-0.43803294  2.45555307  0.98247986]\n",
      " [-0.39877646  0.94343533  2.45534113]\n",
      " [-0.45534667  2.29881379  1.15653288]\n",
      " [ 2.45545432  0.80339882 -0.25885314]\n",
      " [ 2.45537676  0.80353778 -0.25891453]\n",
      " [-0.45545431  2.45148202  1.00397229]\n",
      " [ 2.48392766  0.78928739 -0.27321505]\n",
      " [-0.25370813  0.802056    2.45165213]\n",
      " [-0.43578353  2.33728732  1.09849621]\n",
      " [-0.25343129  0.83047173  2.42295956]\n",
      " [-0.46832716  1.18507038  2.28325678]\n",
      " [-0.26904773  2.45534777  0.81369995]\n",
      " [-0.26700917  0.81622291  2.45078625]\n",
      " [-0.23579118  0.88070276  2.35508842]\n",
      " [-0.41101101  2.45479849  0.95621252]\n",
      " [ 2.31480195  0.87434829 -0.18915024]\n",
      " [-0.45545431  2.45148202  1.00397229]\n",
      " [ 2.30531906  0.88406364 -0.1893827 ]\n",
      " [-0.31755198  2.45546141  0.86209056]\n",
      " [-0.3974904   2.40980688  0.98768352]\n",
      " [ 2.48008708  0.79099452 -0.2710816 ]\n",
      " [-0.31256981  2.39721935  0.91535046]\n",
      " [ 2.45535343  0.80342875 -0.25878217]\n",
      " [ 2.45540648  0.80337522 -0.2587817 ]\n",
      " [-0.2586082   0.80317153  2.45543667]\n",
      " [-0.43346454  2.39623628  1.03722826]\n",
      " [-0.43787509  1.15403648  2.28383861]\n",
      " [ 2.45666294  0.80274836 -0.2594113 ]\n",
      " [ 2.45540255  0.80330518 -0.25870774]\n",
      " [-0.34557938  2.35497798  0.9906014 ]\n",
      " [ 2.45542386  0.80341684 -0.25884069]\n",
      " [-0.45545431  2.45148202  1.00397229]\n",
      " [ 2.47116249  0.79567516 -0.26683765]\n",
      " [-0.4275673   0.97215049  2.4554168 ]\n",
      " [-0.37669149  2.21552511  1.16116637]\n",
      " [ 2.45535255  0.80340803 -0.25876057]\n",
      " [-0.30389756  0.84202497  2.46187259]\n",
      " [ 2.45556402  0.80328326 -0.25884728]\n",
      " [-0.34485272  2.45551452  0.8893382 ]\n",
      " [ 2.45542765  0.8033267  -0.25875435]\n",
      " [-0.31755198  2.45546141  0.86209056]\n",
      " [-0.24906412  2.45170636  0.79735777]\n",
      " [ 2.45998102  0.8010321  -0.26101313]\n",
      " [ 2.49134461  0.78424564 -0.27559025]\n",
      " [-0.39498755  2.37278914  1.02219841]\n",
      " [ 2.42776478  0.81764926 -0.24541403]\n",
      " [-0.45534667  2.29881379  1.15653288]\n",
      " [-0.44774985  2.40881793  1.03893192]\n",
      " [ 2.48008708  0.79099452 -0.2710816 ]\n",
      " [-0.48605671  1.11023326  2.37582345]\n",
      " [-0.44332205  2.47386655  0.9694555 ]\n",
      " [-0.258011    2.45542799  0.802583  ]\n",
      " [-0.34461107  2.42452328  0.92008779]\n",
      " [-0.45545431  2.45148202  1.00397229]\n",
      " [ 2.43065352  0.82020437 -0.25085789]\n",
      " [ 2.45538572  0.80262911 -0.25801482]\n",
      " [-0.42599589  2.24412445  1.18187144]\n",
      " [-0.44875652  2.46329633  0.98546019]\n",
      " [-0.29352591  0.93138793  2.36213798]\n",
      " [-0.47939404  2.38992467  1.08946937]\n",
      " [-0.44803326  1.10637329  2.34165998]\n",
      " [-0.35993865  0.90437519  2.45556346]\n",
      " [-0.37075601  2.29367693  1.07707908]\n",
      " [-0.48605671  1.11023326  2.37582345]\n",
      " [ 2.48392766  0.78928739 -0.27321505]]\n",
      "\n",
      "predict:\n",
      " [ 0.  1.  2.  0.  0.  2.  0.  1.  2.  2.  1.  2.  1.  0.  1.  2.  2.  1.\n",
      "  2.  1.  0.  0.  0.  2.  0.  1.  2.  1.  0.  0.  1.  0.  2.  1.  2.  2.\n",
      "  1.  2.  2.  1.  0.  1.  0.  1.  1.  0.  1.  0.  0.  2.  1.  2.  0.  0.\n",
      "  1.  0.  1.  0.  2.  1.  0.  2.  0.  1.  0.  1.  1.  0.  0.  1.  0.  1.\n",
      "  1.  0.  2.  1.  1.  1.  1.  0.  0.  1.  1.  2.  1.  2.  2.  1.  2.  0.]\n"
     ]
    }
   ],
   "source": [
    "print(\"SVM-输出训练集的准确率为：\",clf.score(x_train, y_train))  # 精度\n",
    "y_hat = clf.predict(x_train)\n",
    "show_accuracy(y_hat, y_train, '训练集')\n",
    "\n",
    "print(\"SVM-输出测试集的准确率为：\",clf.score(x_test, y_test))\n",
    "y_hat = clf.predict(x_test)\n",
    "show_accuracy(y_hat, y_test, '测试集')\n",
    "\n",
    "# 如果想要查看决策函数，可以通过decision_function()实现.decision_function中每一列的值代表距离各类别的距离。\n",
    "print('decision_function:\\n',clf.decision_function(x_train))\n",
    "print('\\npredict:\\n',clf.predict(x_train))"
   ]
  },
  {
   "cell_type": "markdown",
   "metadata": {},
   "source": [
    "# 5.绘制图像\n"
   ]
  },
  {
   "cell_type": "code",
   "execution_count": 8,
   "metadata": {},
   "outputs": [
    {
     "name": "stdout",
     "output_type": "stream",
     "text": [
      "grid_test = \n",
      " [[ 4.3        2.       ]\n",
      " [ 4.3        2.0120603]\n",
      " [ 4.3        2.0241206]\n",
      " ..., \n",
      " [ 7.9        4.3758794]\n",
      " [ 7.9        4.3879397]\n",
      " [ 7.9        4.4      ]]\n",
      "[ 1.  1.  1. ...,  1.  1.  1.]\n",
      "[[ 1.  1.  1. ...,  1.  1.  1.]\n",
      " [ 1.  1.  1. ...,  1.  1.  1.]\n",
      " [ 1.  1.  1. ...,  1.  1.  1.]\n",
      " ..., \n",
      " [ 1.  1.  1. ...,  1.  1.  1.]\n",
      " [ 1.  1.  1. ...,  1.  1.  1.]\n",
      " [ 1.  1.  1. ...,  1.  1.  1.]]\n",
      "x_test: \n",
      " [[ 5.8  4. ]\n",
      " [ 5.1  2.5]\n",
      " [ 6.6  3. ]\n",
      " [ 5.4  3.9]\n",
      " [ 7.9  3.8]\n",
      " [ 6.3  3.3]\n",
      " [ 6.9  3.1]\n",
      " [ 5.1  3.8]\n",
      " [ 4.7  3.2]\n",
      " [ 6.9  3.2]\n",
      " [ 5.6  2.7]\n",
      " [ 5.4  3.9]\n",
      " [ 7.1  3. ]\n",
      " [ 6.4  3.2]\n",
      " [ 6.   2.9]\n",
      " [ 4.4  3.2]\n",
      " [ 5.8  2.6]\n",
      " [ 5.6  3. ]\n",
      " [ 5.4  3.4]\n",
      " [ 5.   3.2]\n",
      " [ 5.5  2.6]\n",
      " [ 5.4  3. ]\n",
      " [ 6.7  3. ]\n",
      " [ 5.   3.5]\n",
      " [ 7.2  3.2]\n",
      " [ 5.7  2.8]\n",
      " [ 5.5  4.2]\n",
      " [ 5.1  3.8]\n",
      " [ 6.1  2.8]\n",
      " [ 6.3  2.5]\n",
      " [ 6.1  3. ]\n",
      " [ 7.7  3. ]\n",
      " [ 5.6  2.5]\n",
      " [ 6.4  2.8]\n",
      " [ 5.8  2.8]\n",
      " [ 5.3  3.7]\n",
      " [ 5.5  2.3]\n",
      " [ 5.2  3.4]\n",
      " [ 6.5  2.8]\n",
      " [ 6.7  2.5]\n",
      " [ 6.8  3. ]\n",
      " [ 5.1  3.5]\n",
      " [ 6.   2.2]\n",
      " [ 6.3  2.9]\n",
      " [ 6.6  2.9]\n",
      " [ 7.7  2.6]\n",
      " [ 5.7  3.8]\n",
      " [ 5.   3.6]\n",
      " [ 4.8  3. ]\n",
      " [ 5.2  2.7]\n",
      " [ 5.1  3.4]\n",
      " [ 5.5  3.5]\n",
      " [ 7.7  3.8]\n",
      " [ 6.9  3.1]\n",
      " [ 7.3  2.9]\n",
      " [ 6.4  2.8]\n",
      " [ 6.2  2.8]\n",
      " [ 6.   3.4]\n",
      " [ 7.7  2.8]\n",
      " [ 5.7  3. ]]\n",
      "4.3\n"
     ]
    },
    {
     "data": {
      "image/png": "[encoded data removed]",
      "text/plain": [
       "<matplotlib.figure.Figure at 0x193f89b2160>"
      ]
     },
     "metadata": {},
     "output_type": "display_data"
    }
   ],
   "source": [
    "# （1）确定坐标轴范围，x,y轴分别表示两个特征\n",
    "x1_min, x1_max = x[:, 0].min(), x[:, 0].max()  # 第0列的范围  x[:, 0] \"：\"表示所有行，0表示第1列\n",
    "x2_min, x2_max = x[:, 1].min(), x[:, 1].max()  # 第1列的范围  x[:, 0] \"：\"表示所有行，1表示第2列\n",
    "x1, x2 = np.mgrid[x1_min:x1_max:200j, x2_min:x2_max:200j]  # 生成网格采样点（用meshgrid函数生成两个网格矩阵X1和X2）,可以接受两个一维数组生成两个二维矩阵\n",
    "# meshgrid的作用是根据传入的两个一维数组参数生成两个数组元素的列表。\n",
    "# 如果第一个参数是xarray，维度是xdimesion，第二个参数是yarray，维度是ydimesion。\n",
    "# 那么生成的第一个二维数组是以xarray为行，ydimesion行的向量；而第二个二维数组是以yarray的转置为列，xdimesion列的向量。\n",
    "# print(x1)\n",
    "# print(x2)\n",
    "grid_test = np.stack((x1.flat, x2.flat), axis=1)  # 测试点，再通过stack()函数，axis=1表示按垂直方向拼接，生成测试点\n",
    "# .flat 将矩阵转变成一维数组 （与ravel()的区别：flatten：返回的是拷贝\n",
    "print('grid_test = \\n', grid_test)\n",
    "grid_hat = clf.predict(grid_test)  # 预测分类值\n",
    "print(grid_hat)\n",
    "grid_hat = grid_hat.reshape(x1.shape)  # 使之与输入的形状相同  为什么要有这一步？\n",
    "print(grid_hat)\n",
    "\n",
    "# （2）指定默认字体\n",
    "mpl.rcParams['font.sans-serif'] = [u'SimHei']  # 黑体 FangSong/KaiTi\n",
    "mpl.rcParams['axes.unicode_minus'] = False  # 用来正常显示负号\n",
    "\n",
    "# (3) 绘制\n",
    "cm_light = mpl.colors.ListedColormap(['#A0FFA0', '#FFA0A0', '#A0A0FF'])\n",
    "cm_dark = mpl.colors.ListedColormap(['g', 'r', 'b'])\n",
    "plt.pcolormesh(x1, x2, grid_hat, cmap=cm_light)  # pcolormesh(x,y,z,cmap)这里参数代入x1，x2，grid_hat，cmap=cm_light绘制的是背景。plt.pcolormesh()会根据grid_hat的结果自动在cmap里选择颜色\n",
    "plt.scatter(x[:, 0], x[:, 1], c=y.ravel(), edgecolors='k', s=50, cmap=cm_dark)  # 样本  scatter中edgecolors是指描绘点的边缘色彩，s指描绘点的大小，cmap指点的颜色。\n",
    "# 上面scatter()里面的参数传入的都是列表，所以需要的对y进行y.ravel()处理\n",
    "print('x_test: \\n', x_test)\n",
    "plt.scatter(x_test[:, 0], x_test[:, 1], s=120, facecolors='none', zorder=10)  # 圈中测试样本  \n",
    "print(x1_min)\n",
    "plt.xlim(x1_min, x1_max)  # 指图的边界\n",
    "plt.ylim(x2_min, x2_max)\n",
    "plt.xlabel(u'花萼长度', fontsize=13)\n",
    "plt.ylabel(u'花萼宽度', fontsize=13)\n",
    "plt.title(u'鸢尾花SVM二特征分类', fontsize=15)\n",
    "plt.grid()\n",
    "plt.show()\n",
    "\n",
    "\n"
   ]
  },
  {
   "cell_type": "code",
   "execution_count": null,
   "metadata": {
    "collapsed": true
   },
   "outputs": [],
   "source": []
  },
  {
   "cell_type": "markdown",
   "metadata": {},
   "source": [
    "\n"
   ]
  },
  {
   "cell_type": "code",
   "execution_count": null,
   "metadata": {
    "collapsed": true
   },
   "outputs": [],
   "source": []
  }
 ],
 "metadata": {
  "kernelspec": {
   "display_name": "Python 3",
   "language": "python",
   "name": "python3"
  },
  "language_info": {
   "codemirror_mode": {
    "name": "ipython",
    "version": 3
   },
   "file_extension": ".py",
   "mimetype": "text/x-python",
   "name": "python",
   "nbconvert_exporter": "python",
   "pygments_lexer": "ipython3",
   "version": "3.6.3"
  }
 },
 "nbformat": 4,
 "nbformat_minor": 2
}
